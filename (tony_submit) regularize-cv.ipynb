{
 "cells": [
  {
   "cell_type": "code",
   "execution_count": 10,
   "metadata": {},
   "outputs": [
    {
     "data": {
      "image/png": "[encoded data removed]",
      "text/plain": [
       "<Figure size 432x288 with 1 Axes>"
      ]
     },
     "metadata": {
      "needs_background": "light"
     },
     "output_type": "display_data"
    },
    {
     "name": "stdout",
     "output_type": "stream",
     "text": [
      "1811976.5702684515\n",
      "[3928.07687554]\n",
      "[-1.15372087 -1.22213684 -1.1017549  -1.54042767 -2.43581425 -2.21169544\n",
      "  0.67493254  0.43644429  0.23566017]\n"
     ]
    }
   ],
   "source": [
    "import numpy as np\n",
    "import pandas as pd\n",
    "from sklearn.linear_model import Ridge\n",
    "from sklearn.model_selection import train_test_split\n",
    "from sklearn import linear_model\n",
    "import matplotlib.pyplot as plt\n",
    "from sklearn.metrics import mean_squared_error\n",
    "\n",
    "\n",
    "def normalize_train(X_train):\n",
    "    mean = np.mean(X_train, axis = 0)\n",
    "    std = np.std(X_train, axis = 0)\n",
    "    X = (X_train - mean) /std\n",
    "    return X, mean, std\n",
    "\n",
    "def normalize_test(X_test, trn_mean, trn_std):\n",
    "    X = (X_test - trn_mean) /trn_std\n",
    "    return X\n",
    "\n",
    "diamonds = pd.read_csv('diamonds.csv')\n",
    "\n",
    "X = diamonds[['carat', 'depth', 'table', 'x', 'y', 'z', 'clarity', 'cut', 'color']]\n",
    "y = diamonds[['price']]\n",
    "\n",
    "#Training and testing split, with 25% of the data reserved as the test set\n",
    "X = X.to_numpy()\n",
    "y = y.to_numpy()\n",
    "[X_train, X_test, y_train, y_test] = train_test_split(X, y, test_size=0.25, random_state=101)\n",
    "\n",
    "[X_train, trn_mean, trn_std] = normalize_train(X_train)\n",
    "X_test = normalize_test(X_test, trn_mean, trn_std)\n",
    "\n",
    "lmbda = np.logspace(-1, 2, num=101) # Lambda Values Needed for Submission\n",
    "MODEL = []\n",
    "MSE = []\n",
    "\n",
    "for l in lmbda:\n",
    "    ridge = Ridge(alpha=l,fit_intercept=True)\n",
    "    ridge.fit(X_train,y_train)\n",
    "    mse = mean_squared_error(y_test,ridge.predict(X_test))\n",
    "    MODEL.append(ridge)\n",
    "    MSE.append(mse)\n",
    "\n",
    "\n",
    "# plot MSE with lmbda\n",
    "plt.figure(figsize=(6,4))\n",
    "plt.plot(lmbda,MSE)\n",
    "plt.xlabel('Lambda')\n",
    "plt.ylabel('MSE')\n",
    "plt.title('MSE vs. Lambda (Tony Qin-20200727)')\n",
    "plt.show()\n",
    "    \n",
    "best_lmbda = lmbda[MSE.index(min(MSE))]\n",
    "print(min(MSE))\n",
    "# mse = mean_squared_error(y_test, ridge.predict(X_test))\n",
    "# print(mse)\n",
    "\n",
    "# print(\"Training set score:{:.2f}\".format(ridge.score(X_train,y_train)))\n",
    "# print(\"Test set score:{:.2f}\".format(ridge.score(X_test,y_test)))\n",
    "# a = ridge.score(X_train,y_train)\n",
    "# b = ridge.coef_\n",
    "# c = ridge.intercept_\n",
    "# print(c)\n",
    "\n",
    "\n",
    "ridge = Ridge(alpha=13.489628825916533,fit_intercept=True)\n",
    "ridge.fit(X_train,y_train)\n",
    "b = ridge.coef_\n",
    "c = ridge.intercept_\n",
    "print(c)\n",
    "\n",
    "x_predict = [0.25,60,55,4,3,2,5,3,3]\n",
    "x_predict_nor = normalize_test(X_predict, trn_mean, trn_std)\n",
    "print(x_predict_nor)"
   ]
  }
 ],
 "metadata": {
  "kernelspec": {
   "display_name": "Python 3",
   "language": "python",
   "name": "python3"
  },
  "language_info": {
   "codemirror_mode": {
    "name": "ipython",
    "version": 3
   },
   "file_extension": ".py",
   "mimetype": "text/x-python",
   "name": "python",
   "nbconvert_exporter": "python",
   "pygments_lexer": "ipython3",
   "version": "3.8.2"
  }
 },
 "nbformat": 4,
 "nbformat_minor": 4
}
